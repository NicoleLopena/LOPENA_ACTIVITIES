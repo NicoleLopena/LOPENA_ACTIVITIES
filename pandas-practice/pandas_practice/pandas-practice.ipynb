{
 "cells": [
  {
   "cell_type": "code",
   "execution_count": 2,
   "id": "3aa31225-8383-4a55-93c2-7270d1b1f23a",
   "metadata": {},
   "outputs": [
    {
     "name": "stdout",
     "output_type": "stream",
     "text": [
      "   invoice_number   invoice_time store_id  product_id  category_id  num_item  \\\n",
      "0    2.020000e+11  7/15/15 10:45     G816     7000300       210101       1.0   \n",
      "1    2.020000e+11  7/15/15 12:16     G816     7070884        70203       1.0   \n",
      "2    2.020000e+11  7/15/15 12:16     G816     7070884        70203       1.0   \n",
      "3    2.020000e+11  7/15/15 12:16     G816     7070891        70401       1.0   \n",
      "4    2.020000e+11  7/15/15 12:16     G816     7090363        70401       1.0   \n",
      "\n",
      "   price  \n",
      "0    2.0  \n",
      "1    2.0  \n",
      "2    2.0  \n",
      "3    6.0  \n",
      "4    6.0  \n"
     ]
    }
   ],
   "source": [
    "#Write your code here\n",
    "import pandas as pd\n",
    "\n",
    "df_data = pd.read_csv(\"Data/Purchase_Data.csv\")\n",
    "\n",
    "print(df_data.head())"
   ]
  },
  {
   "cell_type": "code",
   "execution_count": 3,
   "id": "d5033021-9b82-4f4d-a4e0-ea6842e3a36d",
   "metadata": {},
   "outputs": [
    {
     "name": "stdout",
     "output_type": "stream",
     "text": [
      "invoice_number    float64\n",
      "invoice_time       object\n",
      "store_id           object\n",
      "product_id          int64\n",
      "category_id         int64\n",
      "num_item          float64\n",
      "price             float64\n",
      "dtype: object\n"
     ]
    }
   ],
   "source": [
    "#Write your code here\n",
    "print(df_data.dtypes)"
   ]
  },
  {
   "cell_type": "code",
   "execution_count": 4,
   "id": "28017702-52b2-49ba-a648-fdeef74ccef0",
   "metadata": {},
   "outputs": [
    {
     "name": "stdout",
     "output_type": "stream",
     "text": [
      "      invoice_number   invoice_time\n",
      "0       2.020000e+11  7/15/15 10:45\n",
      "1       2.020000e+11  7/15/15 12:16\n",
      "2       2.020000e+11  7/15/15 12:16\n",
      "3       2.020000e+11  7/15/15 12:16\n",
      "4       2.020000e+11  7/15/15 12:16\n",
      "...              ...            ...\n",
      "5377    2.020000e+11   9/5/15 23:07\n",
      "5378    2.020000e+11   9/5/15 23:23\n",
      "5379    2.020000e+11   9/5/15 23:24\n",
      "5380    2.020000e+11   9/5/15 23:32\n",
      "5381    2.020000e+11   9/5/15 23:38\n",
      "\n",
      "[5382 rows x 2 columns]\n"
     ]
    }
   ],
   "source": [
    "#Write you code here\n",
    "result_1 = df_data.loc[:, :'invoice_time']\n",
    "\n",
    "print(result_1)"
   ]
  },
  {
   "cell_type": "code",
   "execution_count": 5,
   "id": "309636ab-3cb2-4779-8acb-ec9601099357",
   "metadata": {},
   "outputs": [
    {
     "name": "stdout",
     "output_type": "stream",
     "text": [
      "   invoice_number   invoice_time store_id  product_id  category_id  num_item  \\\n",
      "0    2.020000e+11  7/15/15 10:45     G816     7000300       210101       1.0   \n",
      "1    2.020000e+11  7/15/15 12:16     G816     7070884        70203       1.0   \n",
      "\n",
      "   price  \n",
      "0    2.0  \n",
      "1    2.0  \n"
     ]
    }
   ],
   "source": [
    "#Write you code here\n",
    "result_2 = df_data.loc[:1]\n",
    "\n",
    "print(result_2)"
   ]
  },
  {
   "cell_type": "code",
   "execution_count": 6,
   "id": "0a9ac3d4-6dac-442f-ae46-0f7297f06a0b",
   "metadata": {},
   "outputs": [
    {
     "name": "stdout",
     "output_type": "stream",
     "text": [
      "   invoice_number   invoice_time store_id  product_id  category_id\n",
      "0    2.020000e+11  7/15/15 10:45     G816     7000300       210101\n",
      "1    2.020000e+11  7/15/15 12:16     G816     7070884        70203\n",
      "2    2.020000e+11  7/15/15 12:16     G816     7070884        70203\n",
      "3    2.020000e+11  7/15/15 12:16     G816     7070891        70401\n"
     ]
    }
   ],
   "source": [
    "#Write your code here\n",
    "result_3 = df_data.iloc[:4, :5]\n",
    "\n",
    "print(result_3)"
   ]
  },
  {
   "cell_type": "code",
   "execution_count": 7,
   "id": "845ec2f9-fca4-4990-bbb9-6125919b946d",
   "metadata": {},
   "outputs": [
    {
     "name": "stdout",
     "output_type": "stream",
     "text": [
      "    invoice_time  price\n",
      "0  7/15/15 10:45    2.0\n",
      "4  7/15/15 12:16    6.0\n",
      "6  7/15/15 15:28    2.0\n"
     ]
    }
   ],
   "source": [
    "#Write your code here\n",
    "result_4 = df_data.loc[[0, 4, 6], ['invoice_time', 'price']]\n",
    "\n",
    "print(result_4)"
   ]
  },
  {
   "cell_type": "code",
   "execution_count": 8,
   "id": "188a3cb8-6d31-42bd-ad81-7d02938e1798",
   "metadata": {},
   "outputs": [
    {
     "name": "stdout",
     "output_type": "stream",
     "text": [
      "5382\n"
     ]
    }
   ],
   "source": [
    "num_rows = df_data.shape[0]\n",
    "\n",
    "print(num_rows)"
   ]
  },
  {
   "cell_type": "code",
   "execution_count": 9,
   "id": "9731c930-1fe8-46ed-8b58-a81ff7892487",
   "metadata": {},
   "outputs": [
    {
     "name": "stdout",
     "output_type": "stream",
     "text": [
      "invoice_number    202000000000.0\n",
      "invoice_time        9/5/15 23:38\n",
      "store_id                    G619\n",
      "product_id              23030206\n",
      "category_id               210101\n",
      "num_item                     1.0\n",
      "price                        2.0\n",
      "Name: 5381, dtype: object\n"
     ]
    }
   ],
   "source": [
    "#Write your code here\n",
    "last_row = df_data.iloc[num_rows -1]\n",
    "\n",
    "print(last_row)"
   ]
  },
  {
   "cell_type": "code",
   "execution_count": 10,
   "id": "cea3c57c-d99a-428b-9c43-e14a4a30b50c",
   "metadata": {},
   "outputs": [
    {
     "name": "stdout",
     "output_type": "stream",
     "text": [
      "Average price: 3.1920522110741363\n",
      "Max price: 6.01\n"
     ]
    }
   ],
   "source": [
    "#Write your code here\n",
    "avg_price = df_data['price'].mean()\n",
    "max_price = df_data['price'].max()\n",
    "\n",
    "print(\"Average price:\", avg_price)\n",
    "print(\"Max price:\", max_price)"
   ]
  },
  {
   "cell_type": "code",
   "execution_count": 11,
   "id": "483ee274-04ce-43dd-8fc7-495c28a79919",
   "metadata": {},
   "outputs": [
    {
     "name": "stdout",
     "output_type": "stream",
     "text": [
      "Average price: 3.1920522110741363\n",
      "Average number of items purchased: 1.2983091787439613\n"
     ]
    }
   ],
   "source": [
    "#Write you code here\n",
    "avg_price, avg_num_items = df_data[['price', 'num_item']].mean()\n",
    "\n",
    "print(\"Average price:\", avg_price)\n",
    "print(\"Average number of items purchased:\", avg_num_items)"
   ]
  },
  {
   "cell_type": "code",
   "execution_count": 12,
   "id": "bbd9dc60-aef7-4439-8030-69cbc5a453cf",
   "metadata": {},
   "outputs": [
    {
     "name": "stdout",
     "output_type": "stream",
     "text": [
      "      invoice_number   invoice_time store_id  product_id  category_id  \\\n",
      "0       2.020000e+11  7/15/15 10:45     G816     7000300       210101   \n",
      "1       2.020000e+11  7/15/15 12:16     G816     7070884        70203   \n",
      "2       2.020000e+11  7/15/15 12:16     G816     7070884        70203   \n",
      "3       2.020000e+11  7/15/15 12:16     G816     7070891        70401   \n",
      "4       2.020000e+11  7/15/15 12:16     G816     7090363        70401   \n",
      "...              ...            ...      ...         ...          ...   \n",
      "5377    2.020000e+11   9/5/15 23:07      300     7308017       210101   \n",
      "5378    2.020000e+11   9/5/15 23:23     G619     7070891        70401   \n",
      "5379    2.020000e+11   9/5/15 23:24     G619     7071096        70201   \n",
      "5380    2.020000e+11   9/5/15 23:32     G619    15000231        70301   \n",
      "5381    2.020000e+11   9/5/15 23:38     G619    23030206       210101   \n",
      "\n",
      "      num_item  price  total  \n",
      "0          1.0    2.0    2.0  \n",
      "1          1.0    2.0    2.0  \n",
      "2          1.0    2.0    2.0  \n",
      "3          1.0    6.0    6.0  \n",
      "4          1.0    6.0    6.0  \n",
      "...        ...    ...    ...  \n",
      "5377       1.0    3.0    3.0  \n",
      "5378       1.0    6.0    6.0  \n",
      "5379       1.0    5.0    5.0  \n",
      "5380       2.0    2.0    4.0  \n",
      "5381       1.0    2.0    2.0  \n",
      "\n",
      "[5382 rows x 8 columns]\n"
     ]
    }
   ],
   "source": [
    "#Write your code here\n",
    "df_data['total'] = df_data['price'] * df_data['num_item']\n",
    "\n",
    "print(df_data)"
   ]
  },
  {
   "cell_type": "code",
   "execution_count": 13,
   "id": "424e530c-c336-49cc-a801-a18a7deebd44",
   "metadata": {},
   "outputs": [
    {
     "name": "stdout",
     "output_type": "stream",
     "text": [
      "Average price of the three most expensive purchases: 6.003333333333333\n"
     ]
    }
   ],
   "source": [
    "#Write your code here\n",
    "sorted_df = df_data.sort_values(by='price', ascending=False)\n",
    "\n",
    "top_three_expensive = sorted_df.head(3)\n",
    "\n",
    "avg_price_top_three = top_three_expensive['price'].mean()\n",
    "\n",
    "print(\"Average price of the three most expensive purchases:\", avg_price_top_three)"
   ]
  },
  {
   "cell_type": "code",
   "execution_count": 14,
   "id": "63ceba50-438e-439f-9985-b45b693bb564",
   "metadata": {},
   "outputs": [
    {
     "name": "stdout",
     "output_type": "stream",
     "text": [
      "Number of different products: 53\n"
     ]
    }
   ],
   "source": [
    "#Write your code here\n",
    "num_unique_products = df_data['product_id'].nunique()\n",
    "\n",
    "print(\"Number of different products:\", num_unique_products)"
   ]
  },
  {
   "cell_type": "code",
   "execution_count": 15,
   "id": "6ab02e71-dd79-41ba-8405-4282a3b0cf7e",
   "metadata": {},
   "outputs": [
    {
     "name": "stdout",
     "output_type": "stream",
     "text": [
      "Difference between mean and median of the column 'total': 0.9318078781127839\n"
     ]
    }
   ],
   "source": [
    "#Write your code here\n",
    "total_stats = df_data['total'].describe()\n",
    "\n",
    "mean_total = total_stats['mean']\n",
    "median_total = total_stats['50%']  \n",
    "\n",
    "# Calculate the difference between the mean and median\n",
    "difference = mean_total - median_total\n",
    "\n",
    "print(\"Difference between mean and median of the column 'total':\", difference)"
   ]
  },
  {
   "cell_type": "code",
   "execution_count": 16,
   "id": "87905d81-72c1-41cc-ae37-db27de9754f2",
   "metadata": {},
   "outputs": [
    {
     "name": "stdout",
     "output_type": "stream",
     "text": [
      "      invoice_number   invoice_time store_id  product_id  category_id  \\\n",
      "0       2.020000e+11  7/15/15 10:45     G816     7000300       210101   \n",
      "1       2.020000e+11  7/15/15 12:16     G816     7070884        70203   \n",
      "2       2.020000e+11  7/15/15 12:16     G816     7070884        70203   \n",
      "3       2.020000e+11  7/15/15 12:16     G816     7070891        70401   \n",
      "4       2.020000e+11  7/15/15 12:16     G816     7090363        70401   \n",
      "...              ...            ...      ...         ...          ...   \n",
      "5377    2.020000e+11   9/5/15 23:07      300     7308017       210101   \n",
      "5378    2.020000e+11   9/5/15 23:23     G619     7070891        70401   \n",
      "5379    2.020000e+11   9/5/15 23:24     G619     7071096        70201   \n",
      "5380    2.020000e+11   9/5/15 23:32     G619    15000231        70301   \n",
      "5381    2.020000e+11   9/5/15 23:38     G619    23030206       210101   \n",
      "\n",
      "      num_item  price  \n",
      "0          1.0    2.0  \n",
      "1          1.0    2.0  \n",
      "2          1.0    2.0  \n",
      "3          1.0    6.0  \n",
      "4          1.0    6.0  \n",
      "...        ...    ...  \n",
      "5377       1.0    3.0  \n",
      "5378       1.0    6.0  \n",
      "5379       1.0    5.0  \n",
      "5380       2.0    2.0  \n",
      "5381       1.0    2.0  \n",
      "\n",
      "[5382 rows x 7 columns]\n"
     ]
    }
   ],
   "source": [
    "#Write your code here\n",
    "df_data = df_data.drop('total', axis = 1)\n",
    "print(df_data)"
   ]
  },
  {
   "cell_type": "code",
   "execution_count": 17,
   "id": "509dd765-b63a-4735-b22d-68d61f43fef6",
   "metadata": {},
   "outputs": [
    {
     "name": "stderr",
     "output_type": "stream",
     "text": [
      "C:\\Users\\angel\\AppData\\Local\\Temp\\ipykernel_8000\\385408952.py:2: UserWarning: Could not infer format, so each element will be parsed individually, falling back to `dateutil`. To ensure parsing is consistent and as-expected, please specify a format.\n",
      "  df_data['invoice_time'] = pd.to_datetime(df_data['invoice_time'])\n"
     ]
    },
    {
     "name": "stdout",
     "output_type": "stream",
     "text": [
      "invoice_number           float64\n",
      "invoice_time      datetime64[ns]\n",
      "store_id                  object\n",
      "product_id                 int64\n",
      "category_id                int64\n",
      "num_item                 float64\n",
      "price                    float64\n",
      "dtype: object\n"
     ]
    }
   ],
   "source": [
    "#Write your code here\n",
    "df_data['invoice_time'] = pd.to_datetime(df_data['invoice_time'])\n",
    "\n",
    "print(df_data.dtypes)"
   ]
  },
  {
   "cell_type": "code",
   "execution_count": 18,
   "id": "dbb4a84d-a610-4dbb-9b1e-4d372120a0b9",
   "metadata": {},
   "outputs": [
    {
     "name": "stdout",
     "output_type": "stream",
     "text": [
      "   invoice_number        invoice_time store_id  product_id  category_id  \\\n",
      "0    2.020000e+11 2015-07-15 10:45:00     G816     7000300       210101   \n",
      "1    2.020000e+11 2015-07-15 12:16:00     G816     7070884        70203   \n",
      "2    2.020000e+11 2015-07-15 12:16:00     G816     7070884        70203   \n",
      "3    2.020000e+11 2015-07-15 12:16:00     G816     7070891        70401   \n",
      "4    2.020000e+11 2015-07-15 12:16:00     G816     7090363        70401   \n",
      "\n",
      "   num_item  price  DOW  Month  \n",
      "0       1.0    2.0    2      7  \n",
      "1       1.0    2.0    2      7  \n",
      "2       1.0    2.0    2      7  \n",
      "3       1.0    6.0    2      7  \n",
      "4       1.0    6.0    2      7  \n"
     ]
    }
   ],
   "source": [
    "#Write your code here\n",
    "df_data['DOW'] = df_data['invoice_time'].dt.weekday\n",
    "df_data['Month'] = df_data['invoice_time'].dt.month\n",
    "\n",
    "print(df_data.head())"
   ]
  },
  {
   "cell_type": "code",
   "execution_count": 19,
   "id": "d8e2e53a-091c-4ee4-8590-742b28aa62a6",
   "metadata": {},
   "outputs": [
    {
     "name": "stdout",
     "output_type": "stream",
     "text": [
      "Number of purchases made on Wednesday 959\n"
     ]
    }
   ],
   "source": [
    "#Write your code here\n",
    "weekday_counts = df_data['DOW'].value_counts()\n",
    "num_purchases_wed = weekday_counts[2]\n",
    "\n",
    "print(\"Number of purchases made on Wednesday\", num_purchases_wed)"
   ]
  },
  {
   "cell_type": "code",
   "execution_count": 20,
   "id": "36e1a5d3-8028-4a31-8036-fbeec431bae4",
   "metadata": {},
   "outputs": [
    {
     "name": "stdout",
     "output_type": "stream",
     "text": [
      "   PassengerId  Pclass                                          Name     Sex  \\\n",
      "0          892       3                              Kelly, Mr. James    male   \n",
      "1          893       3              Wilkes, Mrs. James (Ellen Needs)  female   \n",
      "2          894       2                     Myles, Mr. Thomas Francis    male   \n",
      "3          895       3                              Wirz, Mr. Albert    male   \n",
      "4          896       3  Hirvonen, Mrs. Alexander (Helga E Lindqvist)  female   \n",
      "\n",
      "    Age  SibSp  Parch   Ticket     Fare Cabin Embarked  \n",
      "0  34.5      0      0   330911   7.8292   NaN        Q  \n",
      "1  47.0      1      0   363272   7.0000   NaN        S  \n",
      "2  62.0      0      0   240276   9.6875   NaN        Q  \n",
      "3  27.0      0      0   315154   8.6625   NaN        S  \n",
      "4  22.0      1      1  3101298  12.2875   NaN        S  \n"
     ]
    }
   ],
   "source": [
    "#Write your code here\n",
    "import pandas as pd\n",
    "\n",
    "df_data = pd.read_csv(\"Data/Titanic.csv\")\n",
    "\n",
    "print(df_data.head())"
   ]
  },
  {
   "cell_type": "code",
   "execution_count": 21,
   "id": "dde5fbe4-ac71-4b60-b275-2128b2a942b1",
   "metadata": {},
   "outputs": [
    {
     "name": "stdout",
     "output_type": "stream",
     "text": [
      "   PassengerId  Pclass                                Passenger_Name     Sex  \\\n",
      "0          892       3                              Kelly, Mr. James    male   \n",
      "1          893       3              Wilkes, Mrs. James (Ellen Needs)  female   \n",
      "2          894       2                     Myles, Mr. Thomas Francis    male   \n",
      "3          895       3                              Wirz, Mr. Albert    male   \n",
      "4          896       3  Hirvonen, Mrs. Alexander (Helga E Lindqvist)  female   \n",
      "\n",
      "    Age  SibSp  Parch Ticket_Num     Fare Cabin Embarked  \n",
      "0  34.5      0      0     330911   7.8292   NaN        Q  \n",
      "1  47.0      1      0     363272   7.0000   NaN        S  \n",
      "2  62.0      0      0     240276   9.6875   NaN        Q  \n",
      "3  27.0      0      0     315154   8.6625   NaN        S  \n",
      "4  22.0      1      1    3101298  12.2875   NaN        S  \n"
     ]
    }
   ],
   "source": [
    "#Write your code here\n",
    "df_data = df_data.rename(columns = {'Name': 'Passenger_Name', 'Ticket': 'Ticket_Num'})\n",
    "\n",
    "print(df_data.head())"
   ]
  },
  {
   "cell_type": "code",
   "execution_count": 22,
   "id": "f3f505ee-cd59-4df3-8550-59d9fdc56556",
   "metadata": {},
   "outputs": [
    {
     "name": "stdout",
     "output_type": "stream",
     "text": [
      "             Pclass                                Passenger_Name     Sex  \\\n",
      "PassengerId                                                                 \n",
      "892               3                              Kelly, Mr. James    male   \n",
      "893               3              Wilkes, Mrs. James (Ellen Needs)  female   \n",
      "894               2                     Myles, Mr. Thomas Francis    male   \n",
      "895               3                              Wirz, Mr. Albert    male   \n",
      "896               3  Hirvonen, Mrs. Alexander (Helga E Lindqvist)  female   \n",
      "\n",
      "              Age  SibSp  Parch Ticket_Num     Fare Cabin Embarked  \n",
      "PassengerId                                                         \n",
      "892          34.5      0      0     330911   7.8292   NaN        Q  \n",
      "893          47.0      1      0     363272   7.0000   NaN        S  \n",
      "894          62.0      0      0     240276   9.6875   NaN        Q  \n",
      "895          27.0      0      0     315154   8.6625   NaN        S  \n",
      "896          22.0      1      1    3101298  12.2875   NaN        S  \n"
     ]
    }
   ],
   "source": [
    "#Write your code here\n",
    "df_data.set_index('PassengerId', inplace=True)\n",
    "\n",
    "print(df_data.head())"
   ]
  },
  {
   "cell_type": "code",
   "execution_count": 23,
   "id": "6a2b4f86-1497-48ec-bcc0-ea5e355270a0",
   "metadata": {},
   "outputs": [
    {
     "name": "stdout",
     "output_type": "stream",
     "text": [
      "Passenger 896's name is: Hirvonen, Mrs. Alexander (Helga E Lindqvist)\n"
     ]
    }
   ],
   "source": [
    "#Write your code here\n",
    "passenger_896 = df_data.loc[896, 'Passenger_Name']\n",
    "\n",
    "print(\"Passenger 896's name is:\", passenger_896)"
   ]
  },
  {
   "cell_type": "code",
   "execution_count": 24,
   "id": "d0d40453-1fa2-4689-8ba1-5c3c46589f9f",
   "metadata": {},
   "outputs": [
    {
     "name": "stdout",
     "output_type": "stream",
     "text": [
      "   PassengerId  Pclass                                Passenger_Name     Sex  \\\n",
      "0          892       3                              Kelly, Mr. James    male   \n",
      "1          893       3              Wilkes, Mrs. James (Ellen Needs)  female   \n",
      "2          894       2                     Myles, Mr. Thomas Francis    male   \n",
      "3          895       3                              Wirz, Mr. Albert    male   \n",
      "4          896       3  Hirvonen, Mrs. Alexander (Helga E Lindqvist)  female   \n",
      "\n",
      "    Age  SibSp  Parch Ticket_Num     Fare Cabin Embarked  \n",
      "0  34.5      0      0     330911   7.8292   NaN        Q  \n",
      "1  47.0      1      0     363272   7.0000   NaN        S  \n",
      "2  62.0      0      0     240276   9.6875   NaN        Q  \n",
      "3  27.0      0      0     315154   8.6625   NaN        S  \n",
      "4  22.0      1      1    3101298  12.2875   NaN        S  \n"
     ]
    }
   ],
   "source": [
    "#Write your code here\n",
    "df_data.reset_index(inplace=True)\n",
    "\n",
    "print(df_data.head())"
   ]
  },
  {
   "cell_type": "code",
   "execution_count": 25,
   "id": "13c6ba6a-c7e5-4b4d-9fb5-eba9fef50291",
   "metadata": {},
   "outputs": [
    {
     "name": "stdout",
     "output_type": "stream",
     "text": [
      "Number of missing Age entries: 86\n"
     ]
    }
   ],
   "source": [
    "#Write you code here\n",
    "missing_age = df_data['Age'].isnull().sum()\n",
    "\n",
    "print(\"Number of missing Age entries:\", missing_age)"
   ]
  },
  {
   "cell_type": "code",
   "execution_count": 26,
   "id": "d2d2088f-b953-43be-b7bf-e0ae915ae3e4",
   "metadata": {},
   "outputs": [
    {
     "name": "stdout",
     "output_type": "stream",
     "text": [
      "The average age of passengers(ignoring the missing data): 30.272590361445783\n"
     ]
    }
   ],
   "source": [
    "#Write your code here\n",
    "avg_age = df_data['Age'].mean()\n",
    "\n",
    "print(\"The average age of passengers(ignoring the missing data):\", avg_age)"
   ]
  },
  {
   "cell_type": "code",
   "execution_count": 27,
   "id": "8ff6da81-8d12-4f49-8acd-ad9738c2b4f8",
   "metadata": {},
   "outputs": [
    {
     "name": "stdout",
     "output_type": "stream",
     "text": [
      "     PassengerId  Pclass                                Passenger_Name  \\\n",
      "0            892       3                              Kelly, Mr. James   \n",
      "1            893       3              Wilkes, Mrs. James (Ellen Needs)   \n",
      "2            894       2                     Myles, Mr. Thomas Francis   \n",
      "3            895       3                              Wirz, Mr. Albert   \n",
      "4            896       3  Hirvonen, Mrs. Alexander (Helga E Lindqvist)   \n",
      "..           ...     ...                                           ...   \n",
      "413         1305       3                            Spector, Mr. Woolf   \n",
      "414         1306       1                  Oliva y Ocana, Dona. Fermina   \n",
      "415         1307       3                  Saether, Mr. Simon Sivertsen   \n",
      "416         1308       3                           Ware, Mr. Frederick   \n",
      "417         1309       3                      Peter, Master. Michael J   \n",
      "\n",
      "        Sex   Age  SibSp  Parch          Ticket_Num      Fare Cabin Embarked  \n",
      "0      male  34.5      0      0              330911    7.8292   NaN        Q  \n",
      "1    female  47.0      1      0              363272    7.0000   NaN        S  \n",
      "2      male  62.0      0      0              240276    9.6875   NaN        Q  \n",
      "3      male  27.0      0      0              315154    8.6625   NaN        S  \n",
      "4    female  22.0      1      1             3101298   12.2875   NaN        S  \n",
      "..      ...   ...    ...    ...                 ...       ...   ...      ...  \n",
      "413    male   NaN      0      0           A.5. 3236    8.0500   NaN        S  \n",
      "414  female  39.0      0      0            PC 17758  108.9000  C105        C  \n",
      "415    male  38.5      0      0  SOTON/O.Q. 3101262    7.2500   NaN        S  \n",
      "416    male   NaN      0      0              359309    8.0500   NaN        S  \n",
      "417    male   NaN      1      1                2668   22.3583   NaN        C  \n",
      "\n",
      "[418 rows x 11 columns]\n"
     ]
    }
   ],
   "source": [
    "#Write your code here\n",
    "mean_age = df_data['Age'].mean()\n",
    "\n",
    "df_data['Age'].fillna(mean_age)\n",
    "\n",
    "print(df_data)"
   ]
  },
  {
   "cell_type": "code",
   "execution_count": 28,
   "id": "ef4b9f0b-b7d0-4782-bacd-53d6da56ca0b",
   "metadata": {},
   "outputs": [
    {
     "name": "stdout",
     "output_type": "stream",
     "text": [
      "Average age of the 5 most oldest passengers is: 67.0\n"
     ]
    }
   ],
   "source": [
    "#Write your code here\n",
    "sorted_df_data = df_data.sort_values(by='Age', ascending=False)\n",
    "\n",
    "five_oldest_passengers = sorted_df_data.head(5)\n",
    "\n",
    "oldest_ave_age = five_oldest_passengers['Age'].mean()\n",
    "\n",
    "print(\"Average age of the 5 most oldest passengers is:\", oldest_ave_age)"
   ]
  },
  {
   "cell_type": "code",
   "execution_count": null,
   "id": "ff06f8e1-6184-4f3c-9033-a6e874b5f6b4",
   "metadata": {},
   "outputs": [],
   "source": []
  }
 ],
 "metadata": {
  "kernelspec": {
   "display_name": "Python 3 (ipykernel)",
   "language": "python",
   "name": "python3"
  },
  "language_info": {
   "codemirror_mode": {
    "name": "ipython",
    "version": 3
   },
   "file_extension": ".py",
   "mimetype": "text/x-python",
   "name": "python",
   "nbconvert_exporter": "python",
   "pygments_lexer": "ipython3",
   "version": "3.11.9"
  }
 },
 "nbformat": 4,
 "nbformat_minor": 5
}
